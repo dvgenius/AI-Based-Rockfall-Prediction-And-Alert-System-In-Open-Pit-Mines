{
 "cells": [
  {
   "cell_type": "code",
   "execution_count": 1,
   "id": "7ee59413-9194-475b-aec0-c1ddbc7ca06c",
   "metadata": {},
   "outputs": [],
   "source": [
    "import pandas as pd\n",
    "import numpy as np\n",
    "import matplotlib.pyplot as plt\n",
    "import seaborn as sns\n",
    "\n",
    "from sklearn.model_selection import train_test_split\n",
    "from sklearn.ensemble import RandomForestClassifier\n",
    "from sklearn.linear_model import LogisticRegression\n",
    "from sklearn.metrics import classification_report, confusion_matrix, accuracy_score\n",
    "import joblib\n"
   ]
  },
  {
   "cell_type": "code",
   "execution_count": 2,
   "id": "e51fa6cb-61e6-400e-ac30-c9ac5dcf3de1",
   "metadata": {},
   "outputs": [
    {
     "data": {
      "text/html": [
       "<div>\n",
       "<style scoped>\n",
       "    .dataframe tbody tr th:only-of-type {\n",
       "        vertical-align: middle;\n",
       "    }\n",
       "\n",
       "    .dataframe tbody tr th {\n",
       "        vertical-align: top;\n",
       "    }\n",
       "\n",
       "    .dataframe thead th {\n",
       "        text-align: right;\n",
       "    }\n",
       "</style>\n",
       "<table border=\"1\" class=\"dataframe\">\n",
       "  <thead>\n",
       "    <tr style=\"text-align: right;\">\n",
       "      <th></th>\n",
       "      <th>Unit Weight (kN/m?)</th>\n",
       "      <th>Cohesion (kPa)</th>\n",
       "      <th>Internal Friction Angle (?)</th>\n",
       "      <th>Slope Angle (?)</th>\n",
       "      <th>Slope Height (m)</th>\n",
       "      <th>Pore Water Pressure Ratio</th>\n",
       "      <th>Reinforcement Type</th>\n",
       "      <th>Reinforcement Numeric</th>\n",
       "      <th>Factor of Safety (FS)</th>\n",
       "    </tr>\n",
       "  </thead>\n",
       "  <tbody>\n",
       "    <tr>\n",
       "      <th>0</th>\n",
       "      <td>18.745401</td>\n",
       "      <td>21.813837</td>\n",
       "      <td>38.249958</td>\n",
       "      <td>41.907228</td>\n",
       "      <td>18.451042</td>\n",
       "      <td>0.847237</td>\n",
       "      <td>Drainage</td>\n",
       "      <td>3</td>\n",
       "      <td>2.613692</td>\n",
       "    </tr>\n",
       "    <tr>\n",
       "      <th>1</th>\n",
       "      <td>24.507143</td>\n",
       "      <td>19.981044</td>\n",
       "      <td>24.612800</td>\n",
       "      <td>32.964623</td>\n",
       "      <td>9.266800</td>\n",
       "      <td>0.494517</td>\n",
       "      <td>Geosynthetics</td>\n",
       "      <td>2</td>\n",
       "      <td>2.241626</td>\n",
       "    </tr>\n",
       "    <tr>\n",
       "      <th>2</th>\n",
       "      <td>22.319939</td>\n",
       "      <td>12.926926</td>\n",
       "      <td>28.665992</td>\n",
       "      <td>58.224926</td>\n",
       "      <td>10.686165</td>\n",
       "      <td>0.195466</td>\n",
       "      <td>Retaining Wall</td>\n",
       "      <td>0</td>\n",
       "      <td>1.568244</td>\n",
       "    </tr>\n",
       "    <tr>\n",
       "      <th>3</th>\n",
       "      <td>20.986585</td>\n",
       "      <td>32.327000</td>\n",
       "      <td>36.582016</td>\n",
       "      <td>20.948923</td>\n",
       "      <td>13.130201</td>\n",
       "      <td>0.736642</td>\n",
       "      <td>Drainage</td>\n",
       "      <td>3</td>\n",
       "      <td>3.000000</td>\n",
       "    </tr>\n",
       "    <tr>\n",
       "      <th>4</th>\n",
       "      <td>16.560186</td>\n",
       "      <td>26.448087</td>\n",
       "      <td>32.052234</td>\n",
       "      <td>39.392821</td>\n",
       "      <td>14.164400</td>\n",
       "      <td>0.418678</td>\n",
       "      <td>Soil Nailing</td>\n",
       "      <td>1</td>\n",
       "      <td>3.000000</td>\n",
       "    </tr>\n",
       "  </tbody>\n",
       "</table>\n",
       "</div>"
      ],
      "text/plain": [
       "   Unit Weight (kN/m?)  Cohesion (kPa)  Internal Friction Angle (?)  \\\n",
       "0            18.745401       21.813837                    38.249958   \n",
       "1            24.507143       19.981044                    24.612800   \n",
       "2            22.319939       12.926926                    28.665992   \n",
       "3            20.986585       32.327000                    36.582016   \n",
       "4            16.560186       26.448087                    32.052234   \n",
       "\n",
       "   Slope Angle (?)  Slope Height (m)  Pore Water Pressure Ratio  \\\n",
       "0        41.907228         18.451042                   0.847237   \n",
       "1        32.964623          9.266800                   0.494517   \n",
       "2        58.224926         10.686165                   0.195466   \n",
       "3        20.948923         13.130201                   0.736642   \n",
       "4        39.392821         14.164400                   0.418678   \n",
       "\n",
       "  Reinforcement Type  Reinforcement Numeric  Factor of Safety (FS)  \n",
       "0           Drainage                      3               2.613692  \n",
       "1      Geosynthetics                      2               2.241626  \n",
       "2     Retaining Wall                      0               1.568244  \n",
       "3           Drainage                      3               3.000000  \n",
       "4       Soil Nailing                      1               3.000000  "
      ]
     },
     "execution_count": 2,
     "metadata": {},
     "output_type": "execute_result"
    }
   ],
   "source": [
    "#Load and Inspect the Data\n",
    "df = pd.read_csv(\"slope_stability_dataset.csv\")\n",
    "\n",
    "df.head()\n"
   ]
  },
  {
   "cell_type": "code",
   "execution_count": 3,
   "id": "b2917339-141f-4dd0-8522-940e233a7324",
   "metadata": {},
   "outputs": [
    {
     "data": {
      "text/html": [
       "<div>\n",
       "<style scoped>\n",
       "    .dataframe tbody tr th:only-of-type {\n",
       "        vertical-align: middle;\n",
       "    }\n",
       "\n",
       "    .dataframe tbody tr th {\n",
       "        vertical-align: top;\n",
       "    }\n",
       "\n",
       "    .dataframe thead th {\n",
       "        text-align: right;\n",
       "    }\n",
       "</style>\n",
       "<table border=\"1\" class=\"dataframe\">\n",
       "  <thead>\n",
       "    <tr style=\"text-align: right;\">\n",
       "      <th></th>\n",
       "      <th>unit_weight_knm</th>\n",
       "      <th>cohesion_kpa</th>\n",
       "      <th>internal_friction_angle_</th>\n",
       "      <th>slope_angle_</th>\n",
       "      <th>slope_height_m</th>\n",
       "      <th>pore_water_pressure_ratio</th>\n",
       "      <th>reinforcement_type</th>\n",
       "      <th>reinforcement</th>\n",
       "      <th>fs</th>\n",
       "      <th>rockfall_risk</th>\n",
       "    </tr>\n",
       "  </thead>\n",
       "  <tbody>\n",
       "    <tr>\n",
       "      <th>0</th>\n",
       "      <td>18.745401</td>\n",
       "      <td>21.813837</td>\n",
       "      <td>38.249958</td>\n",
       "      <td>41.907228</td>\n",
       "      <td>18.451042</td>\n",
       "      <td>0.847237</td>\n",
       "      <td>Drainage</td>\n",
       "      <td>3</td>\n",
       "      <td>2.613692</td>\n",
       "      <td>0</td>\n",
       "    </tr>\n",
       "    <tr>\n",
       "      <th>1</th>\n",
       "      <td>24.507143</td>\n",
       "      <td>19.981044</td>\n",
       "      <td>24.612800</td>\n",
       "      <td>32.964623</td>\n",
       "      <td>9.266800</td>\n",
       "      <td>0.494517</td>\n",
       "      <td>Geosynthetics</td>\n",
       "      <td>2</td>\n",
       "      <td>2.241626</td>\n",
       "      <td>0</td>\n",
       "    </tr>\n",
       "    <tr>\n",
       "      <th>2</th>\n",
       "      <td>22.319939</td>\n",
       "      <td>12.926926</td>\n",
       "      <td>28.665992</td>\n",
       "      <td>58.224926</td>\n",
       "      <td>10.686165</td>\n",
       "      <td>0.195466</td>\n",
       "      <td>Retaining Wall</td>\n",
       "      <td>0</td>\n",
       "      <td>1.568244</td>\n",
       "      <td>1</td>\n",
       "    </tr>\n",
       "    <tr>\n",
       "      <th>3</th>\n",
       "      <td>20.986585</td>\n",
       "      <td>32.327000</td>\n",
       "      <td>36.582016</td>\n",
       "      <td>20.948923</td>\n",
       "      <td>13.130201</td>\n",
       "      <td>0.736642</td>\n",
       "      <td>Drainage</td>\n",
       "      <td>3</td>\n",
       "      <td>3.000000</td>\n",
       "      <td>0</td>\n",
       "    </tr>\n",
       "    <tr>\n",
       "      <th>4</th>\n",
       "      <td>16.560186</td>\n",
       "      <td>26.448087</td>\n",
       "      <td>32.052234</td>\n",
       "      <td>39.392821</td>\n",
       "      <td>14.164400</td>\n",
       "      <td>0.418678</td>\n",
       "      <td>Soil Nailing</td>\n",
       "      <td>1</td>\n",
       "      <td>3.000000</td>\n",
       "      <td>0</td>\n",
       "    </tr>\n",
       "  </tbody>\n",
       "</table>\n",
       "</div>"
      ],
      "text/plain": [
       "   unit_weight_knm  cohesion_kpa  internal_friction_angle_  slope_angle_  \\\n",
       "0        18.745401     21.813837                 38.249958     41.907228   \n",
       "1        24.507143     19.981044                 24.612800     32.964623   \n",
       "2        22.319939     12.926926                 28.665992     58.224926   \n",
       "3        20.986585     32.327000                 36.582016     20.948923   \n",
       "4        16.560186     26.448087                 32.052234     39.392821   \n",
       "\n",
       "   slope_height_m  pore_water_pressure_ratio reinforcement_type  \\\n",
       "0       18.451042                   0.847237           Drainage   \n",
       "1        9.266800                   0.494517      Geosynthetics   \n",
       "2       10.686165                   0.195466     Retaining Wall   \n",
       "3       13.130201                   0.736642           Drainage   \n",
       "4       14.164400                   0.418678       Soil Nailing   \n",
       "\n",
       "   reinforcement        fs  rockfall_risk  \n",
       "0              3  2.613692              0  \n",
       "1              2  2.241626              0  \n",
       "2              0  1.568244              1  \n",
       "3              3  3.000000              0  \n",
       "4              1  3.000000              0  "
      ]
     },
     "execution_count": 3,
     "metadata": {},
     "output_type": "execute_result"
    }
   ],
   "source": [
    "import pandas as pd\n",
    "\n",
    "\n",
    "df = pd.read_csv(\"slope_stability_dataset.csv\")\n",
    "\n",
    "\n",
    "df.columns = (\n",
    "    df.columns\n",
    "    .str.strip()\n",
    "    .str.lower()\n",
    "    .str.replace(' ', '_')\n",
    "    .str.replace(r'[^\\w\\s]', '', regex=True)\n",
    ")\n",
    "\n",
    "\n",
    "rename_map = {\n",
    "    'factor_of_safety_fs': 'fs',\n",
    "    'reinforcement_numeric': 'reinforcement',\n",
    "}\n",
    "df.rename(columns=rename_map, inplace=True)\n",
    "\n",
    "assert 'fs' in df.columns, \"Missing column: fs\"\n",
    "assert 'reinforcement' in df.columns, \"Missing column: reinforcement\"\n",
    "\n",
    "\n",
    "if 'rockfall_risk' not in df.columns:\n",
    "    df['rockfall_risk'] = ((df['fs'] < 1.4) | (df['reinforcement'] < 0.4)).astype(int)\n",
    "\n",
    "\n",
    "df.dropna(subset=['fs', 'reinforcement'], inplace=True)\n",
    "\n",
    "\n",
    "df.head()\n"
   ]
  },
  {
   "cell_type": "code",
   "execution_count": 4,
   "id": "daf831c2-f4ae-4d3a-b88d-6cd98cf9d3f1",
   "metadata": {},
   "outputs": [
    {
     "data": {
      "text/plain": [
       "rockfall_risk\n",
       "0    6767\n",
       "1    3233\n",
       "Name: count, dtype: int64"
      ]
     },
     "execution_count": 4,
     "metadata": {},
     "output_type": "execute_result"
    }
   ],
   "source": [
    "#Data Cleaning / Prep\n",
    "df.isnull().sum()\n",
    "df.dropna(subset=['fs', 'reinforcement'], inplace=True)\n",
    "\n",
    "df['rockfall_risk'].value_counts()\n"
   ]
  },
  {
   "cell_type": "code",
   "execution_count": 5,
   "id": "b3cda8f1-fb79-4a59-a9d2-2b235f794e21",
   "metadata": {},
   "outputs": [],
   "source": [
    "#Feature Selection\n",
    "\n",
    "features = ['fs', 'reinforcement']\n",
    "\n",
    "X = df[features]\n",
    "y = df['rockfall_risk']\n"
   ]
  },
  {
   "cell_type": "code",
   "execution_count": 6,
   "id": "5ca6def6-9c34-4010-99da-fe5755f00855",
   "metadata": {},
   "outputs": [],
   "source": [
    "#Train-Test Split\n",
    "X_train, X_test, y_train, y_test = train_test_split(X, y, test_size=0.2, random_state=42)\n"
   ]
  },
  {
   "cell_type": "code",
   "execution_count": 7,
   "id": "74488d0f-2fef-409e-83c8-f7f07c21ec0d",
   "metadata": {},
   "outputs": [
    {
     "name": "stdout",
     "output_type": "stream",
     "text": [
      "Model saved as rockfall_model_fs_reinforcement.pkl\n"
     ]
    }
   ],
   "source": [
    "#Train a Classifier\n",
    "model = RandomForestClassifier(n_estimators=100, random_state=42)\n",
    "model.fit(X_train, y_train)\n",
    "\n",
    "\n",
    "joblib.dump(model, \"rockfall_model_fs_reinforcement.pkl\")\n",
    "print(\"Model saved as rockfall_model_fs_reinforcement.pkl\")\n"
   ]
  },
  {
   "cell_type": "code",
   "execution_count": 8,
   "id": "ee375794-6d13-4bcb-a29b-7d172f093ada",
   "metadata": {},
   "outputs": [
    {
     "name": "stdout",
     "output_type": "stream",
     "text": [
      "Accuracy: 1.0\n",
      "\n",
      "Classification Report:\n",
      "               precision    recall  f1-score   support\n",
      "\n",
      "           0       1.00      1.00      1.00      1336\n",
      "           1       1.00      1.00      1.00       664\n",
      "\n",
      "    accuracy                           1.00      2000\n",
      "   macro avg       1.00      1.00      1.00      2000\n",
      "weighted avg       1.00      1.00      1.00      2000\n",
      "\n"
     ]
    },
    {
     "data": {
      "image/png": "[encoded data removed]",
      "text/plain": [
       "<Figure size 640x480 with 2 Axes>"
      ]
     },
     "metadata": {},
     "output_type": "display_data"
    }
   ],
   "source": [
    "#Evaluate the Model\n",
    "y_pred = model.predict(X_test)\n",
    "\n",
    "print(\"Accuracy:\", accuracy_score(y_test, y_pred))\n",
    "print(\"\\nClassification Report:\\n\", classification_report(y_test, y_pred))\n",
    "\n",
    "\n",
    "cm = confusion_matrix(y_test, y_pred)\n",
    "sns.heatmap(cm, annot=True, fmt='d', cmap='Blues', xticklabels=[\"Safe\", \"Risk\"], yticklabels=[\"Safe\", \"Risk\"])\n",
    "plt.xlabel(\"Predicted\")\n",
    "plt.ylabel(\"Actual\")\n",
    "plt.title(\"Confusion Matrix\")\n",
    "plt.show()\n"
   ]
  },
  {
   "cell_type": "code",
   "execution_count": 9,
   "id": "bde941a5-ede9-40ea-bb4a-783d06ec6634",
   "metadata": {},
   "outputs": [
    {
     "name": "stdout",
     "output_type": "stream",
     "text": [
      "Logistic Regression Accuracy: 0.9325\n"
     ]
    }
   ],
   "source": [
    "#Try Another Model\n",
    "logreg = LogisticRegression()\n",
    "logreg.fit(X_train, y_train)\n",
    "y_pred_log = logreg.predict(X_test)\n",
    "\n",
    "print(\"Logistic Regression Accuracy:\", accuracy_score(y_test, y_pred_log))\n"
   ]
  },
  {
   "cell_type": "code",
   "execution_count": 10,
   "id": "e6be8d30-1c4f-4d38-9873-ae42ae89003f",
   "metadata": {},
   "outputs": [
    {
     "data": {
      "text/plain": [
       "array([1])"
      ]
     },
     "execution_count": 10,
     "metadata": {},
     "output_type": "execute_result"
    }
   ],
   "source": [
    "#Load & Use Trained Model\n",
    "\n",
    "model = joblib.load(\"rockfall_model_fs_reinforcement.pkl\")\n",
    "\n",
    "sample = pd.DataFrame([[1.2, 0.3]], columns=['fs', 'reinforcement'])\n",
    "model.predict(sample)\n"
   ]
  },
  {
   "cell_type": "code",
   "execution_count": 11,
   "id": "2d97a8ce-22c9-44cd-a04f-892cf1360872",
   "metadata": {},
   "outputs": [
    {
     "name": "stdout",
     "output_type": "stream",
     "text": [
      "Fitting 5 folds for each of 27 candidates, totalling 135 fits\n",
      "Best Parameters: {'max_depth': None, 'min_samples_split': 2, 'n_estimators': 50}\n"
     ]
    },
    {
     "data": {
      "text/plain": [
       "['rockfall_model_tuned.pkl']"
      ]
     },
     "execution_count": 11,
     "metadata": {},
     "output_type": "execute_result"
    }
   ],
   "source": [
    "#Hyperparameter Tuning with GridSearchCV\n",
    "from sklearn.model_selection import GridSearchCV\n",
    "\n",
    "\n",
    "param_grid = {\n",
    "    'n_estimators': [50, 100, 150],\n",
    "    'max_depth': [None, 5, 10],\n",
    "    'min_samples_split': [2, 5, 10],\n",
    "}\n",
    "\n",
    "\n",
    "rf = RandomForestClassifier(random_state=42)\n",
    "\n",
    "\n",
    "grid_search = GridSearchCV(estimator=rf, param_grid=param_grid, \n",
    "                           cv=5, scoring='accuracy', n_jobs=-1, verbose=1)\n",
    "grid_search.fit(X_train, y_train)\n",
    "\n",
    "\n",
    "best_rf = grid_search.best_estimator_\n",
    "print(\"Best Parameters:\", grid_search.best_params_)\n",
    "\n",
    "joblib.dump(best_rf, \"rockfall_model_tuned.pkl\")\n"
   ]
  },
  {
   "cell_type": "code",
   "execution_count": 12,
   "id": "8662d7e4-1dce-47aa-bcd0-c9f416e6d86f",
   "metadata": {},
   "outputs": [
    {
     "name": "stdout",
     "output_type": "stream",
     "text": [
      " Model saved as rockfall_model_fs_reinforcement.pkl\n"
     ]
    }
   ],
   "source": [
    "import joblib\n",
    "\n",
    "\n",
    "joblib.dump(best_rf, 'rockfall_model_fs_reinforcement.pkl')  # same name used in your Streamlit code\n",
    "print(\" Model saved as rockfall_model_fs_reinforcement.pkl\")\n"
   ]
  },
  {
   "cell_type": "code",
   "execution_count": 13,
   "id": "9d2ff2b3-df97-40ab-a4ca-85b345c4470a",
   "metadata": {},
   "outputs": [
    {
     "data": {
      "image/png": "[encoded data removed]",
      "text/plain": [
       "<Figure size 600x500 with 1 Axes>"
      ]
     },
     "metadata": {},
     "output_type": "display_data"
    }
   ],
   "source": [
    "#ROC Curve & AUC\n",
    "from sklearn.metrics import roc_curve, roc_auc_score\n",
    "\n",
    "\n",
    "y_probs = best_rf.predict_proba(X_test)[:, 1]\n",
    "\n",
    "\n",
    "fpr, tpr, thresholds = roc_curve(y_test, y_probs)\n",
    "roc_auc = roc_auc_score(y_test, y_probs)\n",
    "\n",
    "\n",
    "plt.figure(figsize=(6, 5))\n",
    "plt.plot(fpr, tpr, label=f\"AUC = {roc_auc:.2f}\", color='darkorange')\n",
    "plt.plot([0, 1], [0, 1], linestyle='--', color='gray')\n",
    "plt.xlabel('False Positive Rate')\n",
    "plt.ylabel('True Positive Rate')\n",
    "plt.title('ROC Curve')\n",
    "plt.legend()\n",
    "plt.grid(True)\n",
    "plt.show()\n"
   ]
  },
  {
   "cell_type": "code",
   "execution_count": 14,
   "id": "5b6e3913-72d7-4e27-9490-b3df5be7801e",
   "metadata": {},
   "outputs": [
    {
     "data": {
      "image/png": "[encoded data removed]",
      "text/plain": [
       "<Figure size 600x500 with 1 Axes>"
      ]
     },
     "metadata": {},
     "output_type": "display_data"
    }
   ],
   "source": [
    "#Precision-Recall Curve\n",
    "from sklearn.metrics import precision_recall_curve, average_precision_score\n",
    "\n",
    "precision, recall, _ = precision_recall_curve(y_test, y_probs)\n",
    "avg_prec = average_precision_score(y_test, y_probs)\n",
    "\n",
    "plt.figure(figsize=(6, 5))\n",
    "plt.plot(recall, precision, color='blue', label=f'AP = {avg_prec:.2f}')\n",
    "plt.xlabel('Recall')\n",
    "plt.ylabel('Precision')\n",
    "plt.title('Precision-Recall Curve')\n",
    "plt.legend()\n",
    "plt.grid(True)\n",
    "plt.show()\n"
   ]
  },
  {
   "cell_type": "code",
   "execution_count": 15,
   "id": "eac0c930-8fc6-425c-a678-bc01b47985c1",
   "metadata": {},
   "outputs": [
    {
     "data": {
      "image/png": "[encoded data removed]",
      "text/plain": [
       "<Figure size 600x400 with 1 Axes>"
      ]
     },
     "metadata": {},
     "output_type": "display_data"
    }
   ],
   "source": [
    "#Feature Importance Plot\n",
    "importances = best_rf.feature_importances_\n",
    "feature_names = X.columns\n",
    "\n",
    "\n",
    "plt.figure(figsize=(6, 4))\n",
    "sns.barplot(x=importances, y=feature_names)\n",
    "plt.title('Feature Importance')\n",
    "plt.xlabel('Importance')\n",
    "plt.ylabel('Feature')\n",
    "plt.grid(True)\n",
    "plt.tight_layout()\n",
    "plt.show()\n"
   ]
  },
  {
   "cell_type": "code",
   "execution_count": 16,
   "id": "74754ce6-0f3a-4e13-888b-42d23fe38d58",
   "metadata": {},
   "outputs": [
    {
     "name": "stdout",
     "output_type": "stream",
     "text": [
      "Logistic Regression Accuracy: 0.9325\n",
      "\n",
      "Classification Report:\n",
      "               precision    recall  f1-score   support\n",
      "\n",
      "           0       0.96      0.94      0.95      1336\n",
      "           1       0.88      0.92      0.90       664\n",
      "\n",
      "    accuracy                           0.93      2000\n",
      "   macro avg       0.92      0.93      0.92      2000\n",
      "weighted avg       0.93      0.93      0.93      2000\n",
      "\n"
     ]
    }
   ],
   "source": [
    "#Compare with Logistic Regression\n",
    "logreg = LogisticRegression()\n",
    "logreg.fit(X_train, y_train)\n",
    "logreg_pred = logreg.predict(X_test)\n",
    "\n",
    "print(\"Logistic Regression Accuracy:\", accuracy_score(y_test, logreg_pred))\n",
    "print(\"\\nClassification Report:\\n\", classification_report(y_test, logreg_pred))\n"
   ]
  },
  {
   "cell_type": "code",
   "execution_count": 17,
   "id": "569302f9-29ec-4cd3-a8be-610da0c9141b",
   "metadata": {},
   "outputs": [
    {
     "data": {
      "text/plain": [
       "'C:\\\\Users\\\\Lenovo\\\\Desktop\\\\AI Based Rockfall Prediction And Alert System in Open Pit Mines'"
      ]
     },
     "execution_count": 17,
     "metadata": {},
     "output_type": "execute_result"
    }
   ],
   "source": [
    "import os\n",
    "os.getcwd()\n"
   ]
  },
  {
   "cell_type": "code",
   "execution_count": 18,
   "id": "118c1211-2c66-42d2-954a-ee3ea749f8ce",
   "metadata": {},
   "outputs": [
    {
     "name": "stdout",
     "output_type": "stream",
     "text": [
      " Model saved at: C:\\Users\\Lenovo\\Desktop\\AI Based Rockfall Prediction And Alert System in Open Pit Mines\\rockfall_model_fs_reinforcement.pkl\n"
     ]
    }
   ],
   "source": [
    "import joblib\n",
    "import os\n",
    "\n",
    "project_dir = r\"C:\\Users\\Lenovo\\Desktop\\AI Based Rockfall Prediction And Alert System in Open Pit Mines\"\n",
    "\n",
    "\n",
    "model_path = os.path.join(project_dir, \"rockfall_model_fs_reinforcement.pkl\")\n",
    "joblib.dump(best_rf, model_path)\n",
    "\n",
    "print(f\" Model saved at: {model_path}\")\n"
   ]
  },
  {
   "cell_type": "code",
   "execution_count": 19,
   "id": "d0987f2f-bc8e-49cf-a258-f9ef5b4ffca3",
   "metadata": {},
   "outputs": [
    {
     "data": {
      "text/plain": [
       "['rockfall_model_fs_reinforcement.pkl']"
      ]
     },
     "execution_count": 19,
     "metadata": {},
     "output_type": "execute_result"
    }
   ],
   "source": [
    "import joblib\n",
    "\n",
    "joblib.dump(best_rf, \"rockfall_model_fs_reinforcement.pkl\")\n"
   ]
  },
  {
   "cell_type": "code",
   "execution_count": 20,
   "id": "91b5b8b2-75a1-41a9-89f4-abb4ab5cb3aa",
   "metadata": {},
   "outputs": [
    {
     "data": {
      "text/plain": [
       "['rockfall_model_fs_reinforcement.pkl']"
      ]
     },
     "execution_count": 20,
     "metadata": {},
     "output_type": "execute_result"
    }
   ],
   "source": [
    "import joblib\n",
    "\n",
    "joblib.dump(model, \"rockfall_model_fs_reinforcement.pkl\")\n"
   ]
  },
  {
   "cell_type": "code",
   "execution_count": 21,
   "id": "7aac84cf-8c8b-4c28-b5c7-df459970ec45",
   "metadata": {},
   "outputs": [],
   "source": [
    "import joblib\n",
    "\n",
    "model = joblib.load(\"rockfall_model_fs_reinforcement.pkl\")\n"
   ]
  },
  {
   "cell_type": "code",
   "execution_count": 22,
   "id": "0bb76ca8-df86-44c9-87aa-84002dc30711",
   "metadata": {},
   "outputs": [],
   "source": [
    "import joblib\n",
    "\n",
    "model = joblib.load(\"rockfall_model_fs_reinforcement.pkl\")\n"
   ]
  },
  {
   "cell_type": "code",
   "execution_count": null,
   "id": "104215ae-bb5c-404f-93bd-3b5ec18e462c",
   "metadata": {},
   "outputs": [],
   "source": []
  }
 ],
 "metadata": {
  "kernelspec": {
   "display_name": "Python 3 (ipykernel)",
   "language": "python",
   "name": "python3"
  },
  "language_info": {
   "codemirror_mode": {
    "name": "ipython",
    "version": 3
   },
   "file_extension": ".py",
   "mimetype": "text/x-python",
   "name": "python",
   "nbconvert_exporter": "python",
   "pygments_lexer": "ipython3",
   "version": "3.13.5"
  }
 },
 "nbformat": 4,
 "nbformat_minor": 5
}
